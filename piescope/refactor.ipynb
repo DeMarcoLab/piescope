{
 "cells": [
  {
   "cell_type": "code",
   "execution_count": 16,
   "metadata": {},
   "outputs": [
    {
     "name": "stdout",
     "output_type": "stream",
     "text": [
      "The autoreload extension is already loaded. To reload it, use:\n",
      "  %reload_ext autoreload\n"
     ]
    }
   ],
   "source": [
    "%load_ext autoreload\n",
    "%autoreload 2\n",
    "import os\n",
    "import piescope\n",
    "from fibsem import utils as fibsem_utils\n",
    "\n",
    "from piescope.lm.detector import Basler, Hamamatsu\n",
    "from piescope.lm.laser import Laser, LaserController\n",
    "from piescope.lm.mirror import ImagingType, MirrorPosition\n",
    "from piescope.utils import Modality, TriggerMode\n",
    "\n",
    "import numpy as np\n",
    "from typing import Union"
   ]
  },
  {
   "cell_type": "code",
   "execution_count": 17,
   "metadata": {},
   "outputs": [
    {
     "name": "stderr",
     "output_type": "stream",
     "text": [
      "C:\\Users\\Admin\\Github\\fibsem\\fibsem\\utils.py:136: ResourceWarning: unclosed file <_io.TextIOWrapper name='c:\\\\Users\\\\Admin\\\\Github\\\\piescope\\\\demo_2022-09-27.06-03-37PM\\\\logfile.log' mode='a' encoding='UTF-8'>\n",
      "  logging.basicConfig(\n",
      "ResourceWarning: Enable tracemalloc to get the object allocation traceback\n",
      "2022-09-27 18:03:37,685 — root — INFO — connect_to_microscope:28 — Microscope client connecting to [10.0.0.1]\n",
      "2022-09-27 18:03:37,690 — root — INFO — connect_to_microscope:31 — Microscope client connected to [10.0.0.1]\n",
      "2022-09-27 18:03:37,691 — root — INFO — setup_session:241 — Finished setup for session: demo_2022-09-27.06-03-37PM\n"
     ]
    },
    {
     "name": "stdout",
     "output_type": "stream",
     "text": [
      "Client connecting to [10.0.0.1:7520]...\n",
      "Client connected to [10.0.0.1:7520]\n"
     ]
    },
    {
     "name": "stderr",
     "output_type": "stream",
     "text": [
      "2022-09-27 18:03:38,335 — root — INFO — __init__:43 — Successfully connected to SMARACT objective lens stage controller\n"
     ]
    }
   ],
   "source": [
    "BASE_PATH = os.path.dirname(piescope.__file__)\n",
    "config = piescope.utils.read_config(os.path.join(BASE_PATH, \"config.yml\"))\n",
    "\n",
    "microscope, settings = fibsem_utils.setup_session()\n",
    "laser_controller = LaserController(settings=config)\n",
    "detector = Hamamatsu(settings=config)\n",
    "\n",
    "objective_stage = piescope.lm.objective.StageController(\n",
    "            testing=False)\n",
    "objective_stage.initialise_system_parameters()\n"
   ]
  },
  {
   "cell_type": "code",
   "execution_count": 9,
   "metadata": {},
   "outputs": [
    {
     "name": "stdout",
     "output_type": "stream",
     "text": [
      "Laser(name='laser488', serial_id='laser3', wavelength=488, power=10.0, exposure_time=1000.0, enabled=True, pin='P01', volume_enabled=False, colour=[0, 255, 0], spinBox=None, lineEdit=None, volumeCheckBox=None)\n"
     ]
    }
   ],
   "source": [
    "def fluorescence_image(laser: Laser, laser_controller: LaserController, detector: Union[Hamamatsu, Basler], settings: dict) -> np.ndarray:\n",
    "\n",
    "    # manually turn on laser if software mode\n",
    "    if settings[\"imaging\"][\"lm\"][\"trigger_mode\"] == TriggerMode.Software:\n",
    "        laser_controller.emission_on(laser)\n",
    "\n",
    "    image = detector.camera_grab(laser=laser, settings=settings)\n",
    "\n",
    "    # manually turn off laser if software mode\n",
    "    if settings[\"imaging\"][\"lm\"][\"trigger_mode\"] == TriggerMode.Software:\n",
    "        laser_controller.emission_off(laser)\n",
    "\n",
    "    # metadata = {\n",
    "    #     \"exposure_time\": str(laser.exposure_time),\n",
    "    #     \"laser_name\": str(laser.name),\n",
    "    #     \"laser_power\": str(laser.power),\n",
    "    #     \"timestamp\": fibsem_utils.current_timestamp(),\n",
    "    # }\n",
    "\n",
    "    # # save image\n",
    "    # if settings[\"imaging\"][\"lm\"][\"autosave\"] is True:\n",
    "    #     save_filename = os.path.join(\n",
    "    #         self.save_destination_FM,\n",
    "    #         \"F_\" + self.lineEdit_save_filename_FM.text() + \".tif\",\n",
    "    #     )\n",
    "    #     piescope.utils.save_image(image, save_filename, metadata=metadata)\n",
    "\n",
    "\n",
    "    return image\n",
    "\n",
    "# wavelength = 488\n",
    "laser_name = \"laser488\"\n",
    "laser = laser_controller.lasers[laser_name]\n",
    "print(laser)\n",
    "\n",
    "# TODO: lasers should control themselves, not the laser controller... refactor target\n",
    "# maybe not, needs a serial connection probs best to have in one spot, but refactor the current_laser stuff\n",
    "# TODO: remove ui stuff from lasers, \n",
    "# image = fluorescence_image(laser, laser_controller, detector, config)\n"
   ]
  },
  {
   "cell_type": "code",
   "execution_count": 18,
   "metadata": {},
   "outputs": [],
   "source": [
    "objective_stage.disconnect()\n",
    "\n",
    "\n"
   ]
  },
  {
   "cell_type": "code",
   "execution_count": null,
   "metadata": {},
   "outputs": [],
   "source": [
    "# GOALS\n",
    "# change imaging settings (laser)\n",
    "# take fluoresnence image\n",
    "# move objective stage\n",
    "# move to/from fluoro "
   ]
  },
  {
   "cell_type": "code",
   "execution_count": 13,
   "metadata": {},
   "outputs": [],
   "source": []
  },
  {
   "cell_type": "code",
   "execution_count": 14,
   "metadata": {},
   "outputs": [
    {
     "data": {
      "text/plain": [
       "{'resolution': '1536x1024',\n",
       " 'dwell_time': 1e-06,\n",
       " 'hfw': 0.00015,\n",
       " 'autocontrast': True,\n",
       " 'beam_type': <BeamType.ELECTRON: 1>,\n",
       " 'save': False,\n",
       " 'label': None,\n",
       " 'gamma': None,\n",
       " 'save_path': None}"
      ]
     },
     "execution_count": 14,
     "metadata": {},
     "output_type": "execute_result"
    }
   ],
   "source": []
  },
  {
   "cell_type": "code",
   "execution_count": null,
   "metadata": {},
   "outputs": [],
   "source": []
  }
 ],
 "metadata": {
  "kernelspec": {
   "display_name": "Python 3.9.12 ('piescope2')",
   "language": "python",
   "name": "python3"
  },
  "language_info": {
   "codemirror_mode": {
    "name": "ipython",
    "version": 3
   },
   "file_extension": ".py",
   "mimetype": "text/x-python",
   "name": "python",
   "nbconvert_exporter": "python",
   "pygments_lexer": "ipython3",
   "version": "3.9.12"
  },
  "orig_nbformat": 4,
  "vscode": {
   "interpreter": {
    "hash": "a5d89b38a5a37a1e6f4ea49ec9fa613fd1af26d52525cfde99da44938a892d79"
   }
  }
 },
 "nbformat": 4,
 "nbformat_minor": 2
}
